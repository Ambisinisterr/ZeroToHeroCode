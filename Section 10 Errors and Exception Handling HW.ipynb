{
 "cells": [
  {
   "cell_type": "markdown",
   "metadata": {},
   "source": [
    "___\n",
    "\n",
    "<a href='https://www.udemy.com/user/joseportilla/'><img src='../Pierian_Data_Logo.png'/></a>\n",
    "___\n",
    "<center><em>Content Copyright by Pierian Data</em></center>"
   ]
  },
  {
   "cell_type": "markdown",
   "metadata": {},
   "source": [
    "# Errors and Exceptions Homework"
   ]
  },
  {
   "cell_type": "markdown",
   "metadata": {},
   "source": [
    "### Problem 1\n",
    "Handle the exception thrown by the code below by using <code>try</code> and <code>except</code> blocks."
   ]
  },
  {
   "cell_type": "code",
   "execution_count": 2,
   "metadata": {},
   "outputs": [
    {
     "name": "stdout",
     "output_type": "stream",
     "text": [
      "There was a type error.\n"
     ]
    }
   ],
   "source": [
    "try:\n",
    "    for i in ['a','b','c']:\n",
    "        print(i**2)\n",
    "except TypeError:\n",
    "    print(\"Error: There was a Type Error.\")"
   ]
  },
  {
   "cell_type": "markdown",
   "metadata": {},
   "source": [
    "### Problem 2\n",
    "Handle the exception thrown by the code below by using <code>try</code> and <code>except</code> blocks. Then use a <code>finally</code> block to print 'All Done.'"
   ]
  },
  {
   "cell_type": "code",
   "execution_count": 1,
   "metadata": {},
   "outputs": [
    {
     "name": "stdout",
     "output_type": "stream",
     "text": [
      "Error: you can not divide by zero\n",
      "All Done\n"
     ]
    }
   ],
   "source": [
    "x = 5\n",
    "y = 0\n",
    "\n",
    "try:\n",
    "    z = x/y\n",
    "\n",
    "except ZeroDivisionError:\n",
    "    print(\"Error: you can not divide by zero\")\n",
    "\n",
    "finally:\n",
    "    print(\"All Done\")"
   ]
  },
  {
   "cell_type": "markdown",
   "metadata": {},
   "source": [
    "### Problem 3\n",
    "Write a function that asks for an integer and prints the square of it. Use a <code>while</code> loop with a <code>try</code>, <code>except</code>, <code>else</code> block to account for incorrect inputs."
   ]
  },
  {
   "cell_type": "code",
   "execution_count": 25,
   "metadata": {},
   "outputs": [],
   "source": [
    "def ask():\n",
    "    cont = True\n",
    "    while cont:\n",
    "        value = input(\"Please input an integer: \")\n",
    "        try:\n",
    "            value = int(value) ** 2\n",
    "        except:\n",
    "            print(\"Error: value entered was not numeric\")\n",
    "        else:\n",
    "            print(f\"Thank you, your number squared is:  {value}\")\n",
    "            res = input(\"Do you want to continue? Y/N: \").lower()\n",
    "            \n",
    "            while res not in [\"y\",\"n\"]:\n",
    "                res = input(\"Please enter Y or N. Do you want to continue? Y/N: \").lower()\n",
    "                if res in [\"y\",\"n\"]:\n",
    "                    break\n",
    "                \n",
    "                \n",
    "            if res == \"y\":\n",
    "                continue\n",
    "            elif res == \"n\":\n",
    "                print(\"Thank you for asking.\")\n",
    "                break\n",
    "            "
   ]
  },
  {
   "cell_type": "code",
   "execution_count": 26,
   "metadata": {},
   "outputs": [
    {
     "name": "stdout",
     "output_type": "stream",
     "text": [
      "Please input an integer: 1\n",
      "Thank you, your number squared is:  1\n",
      "Do you want to continue? Y/N: 2\n",
      "Please enter Y or N. Do you want to continue? Y/N: Y\n",
      "Please input an integer: 2\n",
      "Thank you, your number squared is:  4\n",
      "Do you want to continue? Y/N: Yes\n",
      "Please enter Y or N. Do you want to continue? Y/N: Y\n",
      "Please input an integer: 3\n",
      "Thank you, your number squared is:  9\n",
      "Do you want to continue? Y/N: N\n",
      "Thank you for asking.\n"
     ]
    }
   ],
   "source": [
    "ask()"
   ]
  },
  {
   "cell_type": "markdown",
   "metadata": {},
   "source": [
    "# Great Job!"
   ]
  }
 ],
 "metadata": {
  "kernelspec": {
   "display_name": "Python 3",
   "language": "python",
   "name": "python3"
  },
  "language_info": {
   "codemirror_mode": {
    "name": "ipython",
    "version": 3
   },
   "file_extension": ".py",
   "mimetype": "text/x-python",
   "name": "python",
   "nbconvert_exporter": "python",
   "pygments_lexer": "ipython3",
   "version": "3.8.8"
  }
 },
 "nbformat": 4,
 "nbformat_minor": 1
}
